{
  "nbformat": 4,
  "nbformat_minor": 0,
  "metadata": {
    "colab": {
      "name": "vgames2_data.ipynb",
      "private_outputs": true,
      "provenance": [],
      "authorship_tag": "ABX9TyMtqgPuONGZ7Unw7LqdDbif",
      "include_colab_link": true
    },
    "kernelspec": {
      "name": "python3",
      "display_name": "Python 3"
    },
    "language_info": {
      "name": "python"
    }
  },
  "cells": [
    {
      "cell_type": "markdown",
      "metadata": {
        "id": "view-in-github",
        "colab_type": "text"
      },
      "source": [
        "<a href=\"https://colab.research.google.com/github/sungjin-kim-data/vgames2_data/blob/master/vgames2_data.ipynb\" target=\"_parent\"><img src=\"https://colab.research.google.com/assets/colab-badge.svg\" alt=\"Open In Colab\"/></a>"
      ]
    },
    {
      "cell_type": "markdown",
      "source": [
        "# **성진이가 다니고 있는 게임 회사**\n",
        "\n",
        "## **게임 데이터를 확인 후 액션이 어떻게 이루어져야하는지 확인할 것**\n",
        "\n",
        "1. 지역에 따라서 선호하는 게임 장르가 다를까 라는 질문에 대답\n",
        "2. 연도별 게임의 트렌드가 있을까 라는 질문에 대답\n",
        "3. 출고량의 높은 게임에 대한 분석 및 시각화 프로세스 포함\n",
        "\n",
        "=> 결론 : 다음 분기에 어떤 게임을 설계해야 하는지를 제시하셔야 합니다."
      ],
      "metadata": {
        "id": "0JgjVv7WVtVW"
      }
    },
    {
      "cell_type": "code",
      "source": [
        "!sudo apt-get install -y fonts-nanum\n",
        "!sudo fc-cache -fv\n",
        "!rm ~/.cache/matplotlib -rf"
      ],
      "metadata": {
        "id": "P-5gg2TOjFYy"
      },
      "execution_count": null,
      "outputs": []
    },
    {
      "cell_type": "code",
      "source": [
        "import math\n",
        "import numpy as np\n",
        "import pandas as pd\n",
        "import seaborn as sns\n",
        "import matplotlib.pyplot as plt\n",
        "\n",
        "plt.style.use('seaborn')\n",
        "sns.set(font_scale=1)\n",
        "plt.rc('font', family='NanumBarunGothic')\n",
        "plt.rcParams['font.family'] = 'NanumGothic'\n",
        "\n",
        "import warnings\n",
        "warnings.simplefilter(action='ignore', category=FutureWarning)"
      ],
      "metadata": {
        "id": "Ocz9HBHaUNIu"
      },
      "execution_count": null,
      "outputs": []
    },
    {
      "cell_type": "code",
      "source": [
        "# import matplotlib.font_manager as fm\n",
        "# fm.fontManager.ttflist\n",
        "# [f.name for f in fm.fontManager.ttflist]"
      ],
      "metadata": {
        "id": "4qE3XYyCOApi"
      },
      "execution_count": null,
      "outputs": []
    },
    {
      "cell_type": "code",
      "source": [
        "# 데이터 불러오기\n",
        "gd = pd.read_csv('https://ds-lecture-data.s3.ap-northeast-2.amazonaws.com/datasets/vgames2.csv')\n",
        "gd.head()"
      ],
      "metadata": {
        "id": "VbNiQPFLUNLs"
      },
      "execution_count": null,
      "outputs": []
    },
    {
      "cell_type": "code",
      "source": [
        "# columns 소문자로 변경\n",
        "\n",
        "gd.columns = gd.columns.str.lower()\n",
        "gd.columns"
      ],
      "metadata": {
        "id": "k5Qgf9jgG6la"
      },
      "execution_count": null,
      "outputs": []
    },
    {
      "cell_type": "code",
      "source": [
        "gd"
      ],
      "metadata": {
        "id": "qV-Yd8hiHXwL"
      },
      "execution_count": null,
      "outputs": []
    },
    {
      "cell_type": "markdown",
      "source": [
        "columns\n",
        "\n",
        "  - Name : 게임의 이름\n",
        "  - Platform : 게임이 지원되는 플랫폼의 이름\n",
        "  - Year : 게임이 출시된 연도\n",
        "  - Genre : 게임의 장르\n",
        "  - Publisher : 게임을 제작한 회사\n",
        "  - NA_Sales : 북미지역에서의 출고량\n",
        "  - EU_Sales : 유럽지역에서의 출고량\n",
        "  - JP_Sales : 일본지역에서의 출고량\n",
        "  - Other_Sales : 기타지역에서의 출고량"
      ],
      "metadata": {
        "id": "zTsJaN8tUxj2"
      }
    },
    {
      "cell_type": "markdown",
      "source": [
        "## **데이터 확인 및 정제**"
      ],
      "metadata": {
        "id": "RQHHqsv0pKG2"
      }
    },
    {
      "cell_type": "code",
      "source": [
        "# 필요없는 컬럼 제거\n",
        "gd.drop('unnamed: 0', axis=1,inplace=True)"
      ],
      "metadata": {
        "id": "DkS0SydUVO79"
      },
      "execution_count": null,
      "outputs": []
    },
    {
      "cell_type": "code",
      "source": [
        "# 정보 확인\n",
        "gd.info()"
      ],
      "metadata": {
        "id": "CxOyjJxJUNOU"
      },
      "execution_count": null,
      "outputs": []
    },
    {
      "cell_type": "code",
      "source": [
        "# object describe\n",
        "gd.describe(include=np.object)"
      ],
      "metadata": {
        "id": "hfMvNwefUNT9"
      },
      "execution_count": null,
      "outputs": []
    },
    {
      "cell_type": "code",
      "source": [
        "# gd 내용 정리해서 출력\n",
        "\n",
        "print(\"총 데이터 수 :\", gd.shape[0]*gd.shape[1])\n",
        "print(\"총 결측치 수 : {} / 전체 데이터의 {:.2f}%\".format(gd.isnull().sum().sum(), (gd.isnull().sum().sum()*100)/(gd.shape[0]*gd.shape[1])))\n",
        "print(\"전체 게임 수: \", gd.name.nunique())\n",
        "print(\"전체 플랫폼의 수: \", gd.platform.nunique())"
      ],
      "metadata": {
        "id": "PqRObUiCUNW5"
      },
      "execution_count": null,
      "outputs": []
    },
    {
      "cell_type": "code",
      "source": [
        "# 결측치 확인\n",
        "gd.isnull().sum(axis=0)"
      ],
      "metadata": {
        "id": "ptcZiSJOEiJ6"
      },
      "execution_count": null,
      "outputs": []
    },
    {
      "cell_type": "code",
      "source": [
        "# 총 379개의 결측치 존재 전체 데이터의 0.25% 차지 그렇기에 결측치를 제거하여도 분석에 그렇게 크게 영향을 미칠것으로 판단되지 않음\n",
        "# 즉, 결측치는 제거하는 것으로 판다"
      ],
      "metadata": {
        "id": "TsyQ0O55mu1N"
      },
      "execution_count": null,
      "outputs": []
    },
    {
      "cell_type": "code",
      "source": [
        "# 결측치 컬럼 내용 확인\n",
        "gd[gd.isnull().any(axis=1)].head()"
      ],
      "metadata": {
        "id": "E0kFoOiSEvj6"
      },
      "execution_count": null,
      "outputs": []
    },
    {
      "cell_type": "code",
      "source": [
        "gd1 = gd.dropna()\n",
        "gd1 = gd1.reset_index(drop=True)\n",
        "gd1.info()"
      ],
      "metadata": {
        "id": "UxKAzhcPFL9h"
      },
      "execution_count": null,
      "outputs": []
    },
    {
      "cell_type": "code",
      "source": [
        "# 결측치 정상 제거 확인\n",
        "gd1.isnull().sum()"
      ],
      "metadata": {
        "id": "G-7mvq61F3ep"
      },
      "execution_count": null,
      "outputs": []
    },
    {
      "cell_type": "code",
      "source": [
        "# 장르별 게임 수\n",
        "gd1['genre'].value_counts()"
      ],
      "metadata": {
        "id": "eh5hw90LLkFa"
      },
      "execution_count": null,
      "outputs": []
    },
    {
      "cell_type": "code",
      "source": [
        "# 장르별 게임 수 시각화\n",
        "\n",
        "plt.figure(figsize=(15, 10))\n",
        "sns.countplot(x=\"genre\", data=gd1, order = gd1['genre'].value_counts().index)\n",
        "# plt.title('장르별 게임 출시 수량')\n",
        "plt.show()"
      ],
      "metadata": {
        "id": "ntXFgoZIL9dK"
      },
      "execution_count": null,
      "outputs": []
    },
    {
      "cell_type": "code",
      "source": [
        "# 이 시각화로 알 수 있는건 액션장르의 게임이 압도적으로 많다는 사실이다."
      ],
      "metadata": {
        "id": "_AfOMF3GnY3c"
      },
      "execution_count": null,
      "outputs": []
    },
    {
      "cell_type": "code",
      "source": [
        "# Year int로 변경\n",
        "gd1['year'] = gd1['year'].astype('int64')\n",
        "gd1.head()"
      ],
      "metadata": {
        "id": "3QuZ2eaZGv9h"
      },
      "execution_count": null,
      "outputs": []
    },
    {
      "cell_type": "code",
      "source": [
        "gd1.info()"
      ],
      "metadata": {
        "id": "RAmA6jjuGwAK"
      },
      "execution_count": null,
      "outputs": []
    },
    {
      "cell_type": "code",
      "source": [
        "# 음수 값 확인\n",
        "print(min(gd1['na_sales']), max(gd1['na_sales']))\n",
        "print(min(gd1['eu_sales']), max(gd1['eu_sales']))\n",
        "print(min(gd1['jp_sales']), max(gd1['jp_sales']))\n",
        "print(min(gd1['other_sales']), max(gd1['other_sales']))"
      ],
      "metadata": {
        "id": "Ij4AyJpFGwCy"
      },
      "execution_count": null,
      "outputs": []
    },
    {
      "cell_type": "code",
      "source": [
        "# Year int로 변경\n",
        "gd1['year'] = gd1['year'].astype('int64')\n",
        "gd1"
      ],
      "metadata": {
        "id": "yniJEGU_KaPi"
      },
      "execution_count": null,
      "outputs": []
    },
    {
      "cell_type": "code",
      "source": [
        "# year 정제\n",
        "gd1.query('year < 10')"
      ],
      "metadata": {
        "id": "s5sRX4_ugshk"
      },
      "execution_count": null,
      "outputs": []
    },
    {
      "cell_type": "code",
      "source": [
        "# year 잘못 기입된 index 추출\n",
        "year = gd1.query('year < 10').index\n",
        "year"
      ],
      "metadata": {
        "id": "Zhf1fIBXai4N"
      },
      "execution_count": null,
      "outputs": []
    },
    {
      "cell_type": "code",
      "source": [
        "# 2000 추가\n",
        "gd1.loc[year, 'year'] = 2000 + gd1.loc[year, 'year']"
      ],
      "metadata": {
        "id": "VBsU86C0ezCO"
      },
      "execution_count": null,
      "outputs": []
    },
    {
      "cell_type": "code",
      "source": [
        "# 2022 기준으로 2자리 숫 year 출력\n",
        "gd1.query('year < 22')"
      ],
      "metadata": {
        "id": "pVFpeIqcfzls"
      },
      "execution_count": null,
      "outputs": []
    },
    {
      "cell_type": "code",
      "source": [
        "year2 = gd1.query('year < 22').index\n",
        "year2"
      ],
      "metadata": {
        "id": "RpgCVI7LhY0a"
      },
      "execution_count": null,
      "outputs": []
    },
    {
      "cell_type": "code",
      "source": [
        "# 2000 추가\n",
        "gd1.loc[year2, 'year'] = 2000 + gd1.loc[year2, 'year']"
      ],
      "metadata": {
        "id": "Ok1ZihsEhY3D"
      },
      "execution_count": null,
      "outputs": []
    },
    {
      "cell_type": "code",
      "source": [
        "gd1.query('year < 22')"
      ],
      "metadata": {
        "id": "E9SYQWe_hY6C"
      },
      "execution_count": null,
      "outputs": []
    },
    {
      "cell_type": "code",
      "source": [
        "# 마지막으로 1900년대 2자리 숫자 출력\n",
        "gd1.query('year < 100')"
      ],
      "metadata": {
        "id": "oOv4VaCbhvYs"
      },
      "execution_count": null,
      "outputs": []
    },
    {
      "cell_type": "code",
      "source": [
        "year3 = gd1.query('year < 100').index\n",
        "year3"
      ],
      "metadata": {
        "id": "k6ADSKGqh4J1"
      },
      "execution_count": null,
      "outputs": []
    },
    {
      "cell_type": "code",
      "source": [
        "gd1.loc[year3, 'year'] = 1900 + gd1.loc[year3, 'year']"
      ],
      "metadata": {
        "id": "Cc2wh6bYh999"
      },
      "execution_count": null,
      "outputs": []
    },
    {
      "cell_type": "code",
      "source": [
        "gd1.loc[year3]"
      ],
      "metadata": {
        "id": "IiEmF0hJiH8k"
      },
      "execution_count": null,
      "outputs": []
    },
    {
      "cell_type": "markdown",
      "source": [
        "### 이제 sales를 정제하려고 한다 엑셀 대충 데이터를 확인 했을 때 K, M \n",
        "### 그리고 0.xx 같은 통합되어 있지 않은 데이터들이라 전부 통일시켜준다"
      ],
      "metadata": {
        "id": "HWTrs4Gx6B6X"
      }
    },
    {
      "cell_type": "code",
      "source": [
        "# salse의 경우 전부 백만 단위로 변경\n",
        "\n",
        "# 먼저 na_sales 부터 시작\n",
        "# 뒤에 K가 붙는 row 추출\n",
        "gd1[gd1['na_sales'].str.endswith('K') == True]\n",
        "\n",
        "# 0K라고 추출 했을 때 0K는 사실 뒤에 K라는 단위가 붙지만 첫번째 자리가 0인 것을 감안해 무의미한 데이터라고 간부 'K'를 전부"
      ],
      "metadata": {
        "id": "O2URAuhTpYWd"
      },
      "execution_count": null,
      "outputs": []
    },
    {
      "cell_type": "code",
      "source": [
        "plt.figure(figsize=(15, 10))\n",
        "sns.countplot(x=\"year\", data=gd1, order = gd1.groupby(by=['year'])['name'].count().sort_values(ascending=False).index)\n",
        "plt.title('연도별 게임 출시 현황', fontsize=15)\n",
        "plt.xlabel('연도', rotation=0)\n",
        "plt.ylabel('수량', rotation=0)\n",
        "plt.xticks(rotation=45)\n",
        "plt.show()"
      ],
      "metadata": {
        "id": "UeET4HkKiOBd"
      },
      "execution_count": null,
      "outputs": []
    },
    {
      "cell_type": "code",
      "source": [
        "plt.figure(figsize=(30, 10))\n",
        "sns.countplot(x=\"year\", data=gd1, hue='genre', order=gd1.year.value_counts().iloc[:10].index)\n",
        "plt.title('게임 장르별 Top10 연도별 정리', fontsize=20)\n",
        "plt.xlabel('연도')\n",
        "plt.ylabel('수량', rotation=0)\n",
        "plt.xticks(rotation=90)\n",
        "plt.show()"
      ],
      "metadata": {
        "id": "sajHPYG9j-l0"
      },
      "execution_count": null,
      "outputs": []
    },
    {
      "cell_type": "code",
      "source": [
        "# 2002년을 제외한 Top10 연도는 전부 액션 게임이 1등이다."
      ],
      "metadata": {
        "id": "6RbpzXmej-bc"
      },
      "execution_count": null,
      "outputs": []
    }
  ]
}